{
 "cells": [
  {
   "cell_type": "markdown",
   "metadata": {},
   "source": [
    "# Binary Classification of Movie Reviews using IMDB dataset"
   ]
  },
  {
   "cell_type": "markdown",
   "metadata": {},
   "source": [
    "This notebook covers the experiments along with the code samples found in Chapter 3, Section 5 of [Deep Learning with Python](https://www.manning.com/books/deep-learning-with-python?a_aid=keras&a_bid=76564dff). A detailed explanation about the dataset and the codes can be found [here](https://github.com/fchollet/deep-learning-with-python-notebooks/blob/master/3.5-classifying-movie-reviews.ipynb)."
   ]
  },
  {
   "cell_type": "code",
   "execution_count": 1,
   "metadata": {},
   "outputs": [
    {
     "name": "stdout",
     "output_type": "stream",
     "text": [
      "Name: Keras\n",
      "Version: 2.4.3\n",
      "Summary: Deep Learning for humans\n",
      "Home-page: https://github.com/keras-team/keras\n",
      "Author: Francois Chollet\n",
      "Author-email: francois.chollet@gmail.com\n",
      "License: MIT\n",
      "Location: c:\\users\\si_sh\\anaconda3\\envs\\tensorflow_env\\lib\\site-packages\n",
      "Requires: numpy, h5py, pyyaml, scipy\n",
      "Required-by: \n"
     ]
    }
   ],
   "source": [
    "# import keras first\n",
    "!pip show keras\n",
    "import keras"
   ]
  },
  {
   "cell_type": "code",
   "execution_count": 2,
   "metadata": {},
   "outputs": [
    {
     "name": "stderr",
     "output_type": "stream",
     "text": [
      "<string>:6: VisibleDeprecationWarning: Creating an ndarray from ragged nested sequences (which is a list-or-tuple of lists-or-tuples-or ndarrays with different lengths or shapes) is deprecated. If you meant to do this, you must specify 'dtype=object' when creating the ndarray\n",
      "C:\\Users\\si_sh\\Anaconda3\\envs\\tensorflow_env\\lib\\site-packages\\tensorflow\\python\\keras\\datasets\\imdb.py:159: VisibleDeprecationWarning: Creating an ndarray from ragged nested sequences (which is a list-or-tuple of lists-or-tuples-or ndarrays with different lengths or shapes) is deprecated. If you meant to do this, you must specify 'dtype=object' when creating the ndarray\n",
      "  x_train, y_train = np.array(xs[:idx]), np.array(labels[:idx])\n",
      "C:\\Users\\si_sh\\Anaconda3\\envs\\tensorflow_env\\lib\\site-packages\\tensorflow\\python\\keras\\datasets\\imdb.py:160: VisibleDeprecationWarning: Creating an ndarray from ragged nested sequences (which is a list-or-tuple of lists-or-tuples-or ndarrays with different lengths or shapes) is deprecated. If you meant to do this, you must specify 'dtype=object' when creating the ndarray\n",
      "  x_test, y_test = np.array(xs[idx:]), np.array(labels[idx:])\n"
     ]
    }
   ],
   "source": [
    "from keras.datasets import imdb\n",
    "# load data into train and test data and labels\n",
    "(train_data, train_labels), (test_data, test_labels) = imdb.load_data(num_words=10000)"
   ]
  },
  {
   "cell_type": "markdown",
   "metadata": {},
   "source": [
    "train_data and test_data are the list of reviews encoded in a sequence of integer numbers. train_lables and test_labels are the list binary values (0s and 1s). O means negative reviews and 1 means positive reviews."
   ]
  },
  {
   "cell_type": "code",
   "execution_count": 3,
   "metadata": {},
   "outputs": [
    {
     "data": {
      "text/plain": [
       "[1,\n",
       " 14,\n",
       " 22,\n",
       " 16,\n",
       " 43,\n",
       " 530,\n",
       " 973,\n",
       " 1622,\n",
       " 1385,\n",
       " 65,\n",
       " 458,\n",
       " 4468,\n",
       " 66,\n",
       " 3941,\n",
       " 4,\n",
       " 173,\n",
       " 36,\n",
       " 256,\n",
       " 5,\n",
       " 25,\n",
       " 100,\n",
       " 43,\n",
       " 838,\n",
       " 112,\n",
       " 50,\n",
       " 670,\n",
       " 2,\n",
       " 9,\n",
       " 35,\n",
       " 480,\n",
       " 284,\n",
       " 5,\n",
       " 150,\n",
       " 4,\n",
       " 172,\n",
       " 112,\n",
       " 167,\n",
       " 2,\n",
       " 336,\n",
       " 385,\n",
       " 39,\n",
       " 4,\n",
       " 172,\n",
       " 4536,\n",
       " 1111,\n",
       " 17,\n",
       " 546,\n",
       " 38,\n",
       " 13,\n",
       " 447,\n",
       " 4,\n",
       " 192,\n",
       " 50,\n",
       " 16,\n",
       " 6,\n",
       " 147,\n",
       " 2025,\n",
       " 19,\n",
       " 14,\n",
       " 22,\n",
       " 4,\n",
       " 1920,\n",
       " 4613,\n",
       " 469,\n",
       " 4,\n",
       " 22,\n",
       " 71,\n",
       " 87,\n",
       " 12,\n",
       " 16,\n",
       " 43,\n",
       " 530,\n",
       " 38,\n",
       " 76,\n",
       " 15,\n",
       " 13,\n",
       " 1247,\n",
       " 4,\n",
       " 22,\n",
       " 17,\n",
       " 515,\n",
       " 17,\n",
       " 12,\n",
       " 16,\n",
       " 626,\n",
       " 18,\n",
       " 2,\n",
       " 5,\n",
       " 62,\n",
       " 386,\n",
       " 12,\n",
       " 8,\n",
       " 316,\n",
       " 8,\n",
       " 106,\n",
       " 5,\n",
       " 4,\n",
       " 2223,\n",
       " 5244,\n",
       " 16,\n",
       " 480,\n",
       " 66,\n",
       " 3785,\n",
       " 33,\n",
       " 4,\n",
       " 130,\n",
       " 12,\n",
       " 16,\n",
       " 38,\n",
       " 619,\n",
       " 5,\n",
       " 25,\n",
       " 124,\n",
       " 51,\n",
       " 36,\n",
       " 135,\n",
       " 48,\n",
       " 25,\n",
       " 1415,\n",
       " 33,\n",
       " 6,\n",
       " 22,\n",
       " 12,\n",
       " 215,\n",
       " 28,\n",
       " 77,\n",
       " 52,\n",
       " 5,\n",
       " 14,\n",
       " 407,\n",
       " 16,\n",
       " 82,\n",
       " 2,\n",
       " 8,\n",
       " 4,\n",
       " 107,\n",
       " 117,\n",
       " 5952,\n",
       " 15,\n",
       " 256,\n",
       " 4,\n",
       " 2,\n",
       " 7,\n",
       " 3766,\n",
       " 5,\n",
       " 723,\n",
       " 36,\n",
       " 71,\n",
       " 43,\n",
       " 530,\n",
       " 476,\n",
       " 26,\n",
       " 400,\n",
       " 317,\n",
       " 46,\n",
       " 7,\n",
       " 4,\n",
       " 2,\n",
       " 1029,\n",
       " 13,\n",
       " 104,\n",
       " 88,\n",
       " 4,\n",
       " 381,\n",
       " 15,\n",
       " 297,\n",
       " 98,\n",
       " 32,\n",
       " 2071,\n",
       " 56,\n",
       " 26,\n",
       " 141,\n",
       " 6,\n",
       " 194,\n",
       " 7486,\n",
       " 18,\n",
       " 4,\n",
       " 226,\n",
       " 22,\n",
       " 21,\n",
       " 134,\n",
       " 476,\n",
       " 26,\n",
       " 480,\n",
       " 5,\n",
       " 144,\n",
       " 30,\n",
       " 5535,\n",
       " 18,\n",
       " 51,\n",
       " 36,\n",
       " 28,\n",
       " 224,\n",
       " 92,\n",
       " 25,\n",
       " 104,\n",
       " 4,\n",
       " 226,\n",
       " 65,\n",
       " 16,\n",
       " 38,\n",
       " 1334,\n",
       " 88,\n",
       " 12,\n",
       " 16,\n",
       " 283,\n",
       " 5,\n",
       " 16,\n",
       " 4472,\n",
       " 113,\n",
       " 103,\n",
       " 32,\n",
       " 15,\n",
       " 16,\n",
       " 5345,\n",
       " 19,\n",
       " 178,\n",
       " 32]"
      ]
     },
     "execution_count": 3,
     "metadata": {},
     "output_type": "execute_result"
    }
   ],
   "source": [
    "train_data[0]"
   ]
  },
  {
   "cell_type": "code",
   "execution_count": 4,
   "metadata": {},
   "outputs": [
    {
     "data": {
      "text/plain": [
       "1"
      ]
     },
     "execution_count": 4,
     "metadata": {},
     "output_type": "execute_result"
    }
   ],
   "source": [
    "train_labels[0]"
   ]
  },
  {
   "cell_type": "markdown",
   "metadata": {},
   "source": [
    "The following code can be used to decode the sequence of number into the original review in words."
   ]
  },
  {
   "cell_type": "code",
   "execution_count": 5,
   "metadata": {},
   "outputs": [],
   "source": [
    "# word_index is a dictionary mapping words to an integer index\n",
    "word_index = imdb.get_word_index()\n",
    "# We reverse it, mapping integer indices to words\n",
    "reverse_word_index = dict([(value, key) for (key, value) in word_index.items()])\n",
    "# We decode the review; note that our indices were offset by 3\n",
    "# because 0, 1 and 2 are reserved indices for \"padding\", \"start of sequence\", and \"unknown\".\n",
    "decoded_review = ' '.join([reverse_word_index.get(i - 3, '?') for i in train_data[0]])"
   ]
  },
  {
   "cell_type": "code",
   "execution_count": 6,
   "metadata": {},
   "outputs": [
    {
     "data": {
      "text/plain": [
       "\"? this film was just brilliant casting location scenery story direction everyone's really suited the part they played and you could just imagine being there robert ? is an amazing actor and now the same being director ? father came from the same scottish island as myself so i loved the fact there was a real connection with this film the witty remarks throughout the film were great it was just brilliant so much that i bought the film as soon as it was released for ? and would recommend it to everyone to watch and the fly fishing was amazing really cried at the end it was so sad and you know what they say if you cry at a film it must have been good and this definitely was also ? to the two little boy's that played the ? of norman and paul they were just brilliant children are often left out of the ? list i think because the stars that play them all grown up are such a big profile for the whole film but these children are amazing and should be praised for what they have done don't you think the whole story was so lovely because it was true and was someone's life after all that was shared with us all\""
      ]
     },
     "execution_count": 6,
     "metadata": {},
     "output_type": "execute_result"
    }
   ],
   "source": [
    "decoded_review"
   ]
  },
  {
   "cell_type": "markdown",
   "metadata": {},
   "source": [
    "As the list of integers can not be fed into the neural network directly, one-hot-encoding will be used to turn the list into vectors of 0s and 1s."
   ]
  },
  {
   "cell_type": "code",
   "execution_count": 7,
   "metadata": {},
   "outputs": [],
   "source": [
    "import numpy as np\n",
    "\n",
    "def vectorize_sequences(sequences, dimension=10000):\n",
    "    # Create an all-zero matrix of shape (len(sequences), dimension)\n",
    "    results = np.zeros((len(sequences), dimension))\n",
    "    for i, sequence in enumerate(sequences):\n",
    "        results[i, sequence] = 1.  # set specific indices of results[i] to 1s\n",
    "    return results\n",
    "\n",
    "# Our vectorized training data\n",
    "x_train = vectorize_sequences(train_data)\n",
    "# Our vectorized test data\n",
    "x_test = vectorize_sequences(test_data)"
   ]
  },
  {
   "cell_type": "code",
   "execution_count": 8,
   "metadata": {},
   "outputs": [
    {
     "data": {
      "text/plain": [
       "array([0., 1., 1., ..., 0., 0., 0.])"
      ]
     },
     "execution_count": 8,
     "metadata": {},
     "output_type": "execute_result"
    }
   ],
   "source": [
    "x_train[0]"
   ]
  },
  {
   "cell_type": "markdown",
   "metadata": {},
   "source": [
    "As the labels are already in binary format, simple numpy array is used to vectorize them."
   ]
  },
  {
   "cell_type": "code",
   "execution_count": 9,
   "metadata": {},
   "outputs": [],
   "source": [
    "y_train = np.asarray(train_labels).astype('float32')\n",
    "y_test = np.asarray(test_labels).astype('float32')"
   ]
  },
  {
   "cell_type": "markdown",
   "metadata": {},
   "source": [
    "The Neural Network"
   ]
  },
  {
   "cell_type": "code",
   "execution_count": 10,
   "metadata": {},
   "outputs": [],
   "source": [
    "from keras import models\n",
    "from keras import layers\n",
    "\n",
    "model = models.Sequential()\n",
    "model.add(layers.Dense(16, activation='relu', input_shape=(10000,)))\n",
    "model.add(layers.Dense(16, activation='relu'))\n",
    "model.add(layers.Dense(1, activation='sigmoid'))"
   ]
  },
  {
   "cell_type": "markdown",
   "metadata": {},
   "source": [
    "Introducing 'rmsprop' optimizer and 'binary_crossentropy' loss function to the model."
   ]
  },
  {
   "cell_type": "code",
   "execution_count": 11,
   "metadata": {},
   "outputs": [],
   "source": [
    "model.compile(optimizer='rmsprop',\n",
    "              loss='binary_crossentropy',\n",
    "              metrics=['accuracy'])"
   ]
  },
  {
   "cell_type": "markdown",
   "metadata": {},
   "source": [
    "Validation Set"
   ]
  },
  {
   "cell_type": "code",
   "execution_count": 12,
   "metadata": {},
   "outputs": [],
   "source": [
    "x_val = x_train[:10000]\n",
    "partial_x_train = x_train[10000:]\n",
    "\n",
    "y_val = y_train[:10000]\n",
    "partial_y_train = y_train[10000:]"
   ]
  },
  {
   "cell_type": "markdown",
   "metadata": {},
   "source": [
    "Training the Model"
   ]
  },
  {
   "cell_type": "code",
   "execution_count": 13,
   "metadata": {},
   "outputs": [
    {
     "name": "stdout",
     "output_type": "stream",
     "text": [
      "Epoch 1/20\n",
      "30/30 [==============================] - 6s 208ms/step - loss: 0.5385 - accuracy: 0.7871 - val_loss: 0.4148 - val_accuracy: 0.8696\n",
      "Epoch 2/20\n",
      "30/30 [==============================] - 1s 37ms/step - loss: 0.3335 - accuracy: 0.8988 - val_loss: 0.3271 - val_accuracy: 0.8789\n",
      "Epoch 3/20\n",
      "30/30 [==============================] - 1s 26ms/step - loss: 0.2412 - accuracy: 0.9242 - val_loss: 0.2834 - val_accuracy: 0.8921\n",
      "Epoch 4/20\n",
      "30/30 [==============================] - 1s 26ms/step - loss: 0.1900 - accuracy: 0.9403 - val_loss: 0.2747 - val_accuracy: 0.8906\n",
      "Epoch 5/20\n",
      "30/30 [==============================] - 1s 22ms/step - loss: 0.1548 - accuracy: 0.9502 - val_loss: 0.2765 - val_accuracy: 0.8901\n",
      "Epoch 6/20\n",
      "30/30 [==============================] - 1s 21ms/step - loss: 0.1273 - accuracy: 0.9599 - val_loss: 0.2888 - val_accuracy: 0.8864\n",
      "Epoch 7/20\n",
      "30/30 [==============================] - 1s 20ms/step - loss: 0.1070 - accuracy: 0.9674 - val_loss: 0.3085 - val_accuracy: 0.8854\n",
      "Epoch 8/20\n",
      "30/30 [==============================] - 1s 21ms/step - loss: 0.0889 - accuracy: 0.9743 - val_loss: 0.3404 - val_accuracy: 0.8816\n",
      "Epoch 9/20\n",
      "30/30 [==============================] - 1s 19ms/step - loss: 0.0740 - accuracy: 0.9789 - val_loss: 0.3423 - val_accuracy: 0.8788\n",
      "Epoch 10/20\n",
      "30/30 [==============================] - 1s 20ms/step - loss: 0.0622 - accuracy: 0.9835 - val_loss: 0.3691 - val_accuracy: 0.8734\n",
      "Epoch 11/20\n",
      "30/30 [==============================] - 1s 19ms/step - loss: 0.0530 - accuracy: 0.9863 - val_loss: 0.3920 - val_accuracy: 0.8767\n",
      "Epoch 12/20\n",
      "30/30 [==============================] - 1s 20ms/step - loss: 0.0430 - accuracy: 0.9897 - val_loss: 0.4192 - val_accuracy: 0.8755\n",
      "Epoch 13/20\n",
      "30/30 [==============================] - 1s 20ms/step - loss: 0.0349 - accuracy: 0.9929 - val_loss: 0.4644 - val_accuracy: 0.8757\n",
      "Epoch 14/20\n",
      "30/30 [==============================] - 1s 20ms/step - loss: 0.0279 - accuracy: 0.9948 - val_loss: 0.4842 - val_accuracy: 0.8685\n",
      "Epoch 15/20\n",
      "30/30 [==============================] - 1s 21ms/step - loss: 0.0213 - accuracy: 0.9967 - val_loss: 0.5157 - val_accuracy: 0.8676\n",
      "Epoch 16/20\n",
      "30/30 [==============================] - 1s 21ms/step - loss: 0.0182 - accuracy: 0.9975 - val_loss: 0.5527 - val_accuracy: 0.8713\n",
      "Epoch 17/20\n",
      "30/30 [==============================] - 1s 22ms/step - loss: 0.0145 - accuracy: 0.9979 - val_loss: 0.6384 - val_accuracy: 0.8659\n",
      "Epoch 18/20\n",
      "30/30 [==============================] - 1s 20ms/step - loss: 0.0093 - accuracy: 0.9995 - val_loss: 0.6261 - val_accuracy: 0.8662\n",
      "Epoch 19/20\n",
      "30/30 [==============================] - 1s 20ms/step - loss: 0.0086 - accuracy: 0.9993 - val_loss: 0.6836 - val_accuracy: 0.8680\n",
      "Epoch 20/20\n",
      "30/30 [==============================] - 1s 19ms/step - loss: 0.0070 - accuracy: 0.9996 - val_loss: 0.7065 - val_accuracy: 0.8628\n"
     ]
    }
   ],
   "source": [
    "history = model.fit(partial_x_train,\n",
    "                    partial_y_train,\n",
    "                    epochs=20,\n",
    "                    batch_size=512,\n",
    "                    validation_data=(x_val, y_val))"
   ]
  },
  {
   "cell_type": "code",
   "execution_count": 16,
   "metadata": {},
   "outputs": [
    {
     "data": {
      "text/plain": [
       "dict_keys(['loss', 'accuracy', 'val_loss', 'val_accuracy'])"
      ]
     },
     "execution_count": 16,
     "metadata": {},
     "output_type": "execute_result"
    }
   ],
   "source": [
    "history_dict = history.history\n",
    "history_dict.keys()"
   ]
  },
  {
   "cell_type": "markdown",
   "metadata": {},
   "source": [
    "Visualizing the loss and accuracy"
   ]
  },
  {
   "cell_type": "code",
   "execution_count": 14,
   "metadata": {},
   "outputs": [
    {
     "data": {
      "image/png": "[encoded data removed]",
      "text/plain": [
       "<Figure size 432x288 with 1 Axes>"
      ]
     },
     "metadata": {
      "needs_background": "light"
     },
     "output_type": "display_data"
    }
   ],
   "source": [
    "import matplotlib.pyplot as plt\n",
    "\n",
    "acc = history.history['accuracy']\n",
    "val_acc = history.history['val_accuracy']\n",
    "loss = history.history['loss']\n",
    "val_loss = history.history['val_loss']\n",
    "\n",
    "epochs = range(1, len(acc) + 1)\n",
    "\n",
    "# \"bo\" is for \"blue dot\"\n",
    "plt.plot(epochs, loss, 'bo', label='Training loss')\n",
    "# b is for \"solid blue line\"\n",
    "plt.plot(epochs, val_loss, 'b', label='Validation loss')\n",
    "plt.title('Training and validation loss')\n",
    "plt.xlabel('Epochs')\n",
    "plt.ylabel('Loss')\n",
    "plt.legend()\n",
    "\n",
    "plt.show()"
   ]
  },
  {
   "cell_type": "code",
   "execution_count": 17,
   "metadata": {},
   "outputs": [
    {
     "data": {
      "image/png": "[encoded data removed]",
      "text/plain": [
       "<Figure size 432x288 with 1 Axes>"
      ]
     },
     "metadata": {
      "needs_background": "light"
     },
     "output_type": "display_data"
    }
   ],
   "source": [
    "plt.clf()   # clear figure\n",
    "acc_values = history_dict['accuracy']\n",
    "val_acc_values = history_dict['val_accuracy']\n",
    "\n",
    "plt.plot(epochs, acc, 'bo', label='Training acc')\n",
    "plt.plot(epochs, val_acc, 'b', label='Validation acc')\n",
    "plt.title('Training and validation accuracy')\n",
    "plt.xlabel('Epochs')\n",
    "plt.ylabel('Loss')\n",
    "plt.legend()\n",
    "\n",
    "plt.show()"
   ]
  },
  {
   "cell_type": "markdown",
   "metadata": {},
   "source": [
    "Testing with the data"
   ]
  },
  {
   "cell_type": "code",
   "execution_count": 57,
   "metadata": {},
   "outputs": [
    {
     "name": "stdout",
     "output_type": "stream",
     "text": [
      "Epoch 1/4\n",
      "49/49 [==============================] - 1s 17ms/step - loss: 0.5196 - accuracy: 0.7762\n",
      "Epoch 2/4\n",
      "49/49 [==============================] - 1s 17ms/step - loss: 0.3058 - accuracy: 0.9045\n",
      "Epoch 3/4\n",
      "49/49 [==============================] - 1s 15ms/step - loss: 0.2263 - accuracy: 0.9249\n",
      "Epoch 4/4\n",
      "49/49 [==============================] - 1s 13ms/step - loss: 0.1852 - accuracy: 0.9374\n",
      "782/782 [==============================] - 1s 1ms/step - loss: 0.2839 - accuracy: 0.8878\n"
     ]
    }
   ],
   "source": [
    "model = models.Sequential()\n",
    "model.add(layers.Dense(16, activation='relu', input_shape=(10000,)))\n",
    "model.add(layers.Dense(16, activation='relu'))\n",
    "model.add(layers.Dense(1, activation='sigmoid'))\n",
    "\n",
    "model.compile(optimizer='rmsprop',\n",
    "              loss='binary_crossentropy',\n",
    "              metrics=['accuracy'])\n",
    "\n",
    "model.fit(x_train, y_train, epochs=4, batch_size=512)\n",
    "results = model.evaluate(x_test, y_test)"
   ]
  },
  {
   "cell_type": "code",
   "execution_count": 58,
   "metadata": {},
   "outputs": [
    {
     "data": {
      "text/plain": [
       "[0.2838740348815918, 0.8877599835395813]"
      ]
     },
     "execution_count": 58,
     "metadata": {},
     "output_type": "execute_result"
    }
   ],
   "source": [
    "results"
   ]
  },
  {
   "cell_type": "code",
   "execution_count": 59,
   "metadata": {},
   "outputs": [
    {
     "data": {
      "text/plain": [
       "array([[0.22712281],\n",
       "       [0.99441624],\n",
       "       [0.78549534],\n",
       "       ...,\n",
       "       [0.16085699],\n",
       "       [0.07986555],\n",
       "       [0.5374764 ]], dtype=float32)"
      ]
     },
     "execution_count": 59,
     "metadata": {},
     "output_type": "execute_result"
    }
   ],
   "source": [
    "model.predict(x_test)"
   ]
  },
  {
   "cell_type": "markdown",
   "metadata": {},
   "source": [
    "# Further Experiments"
   ]
  },
  {
   "cell_type": "markdown",
   "metadata": {},
   "source": [
    "Using one hidden layer"
   ]
  },
  {
   "cell_type": "code",
   "execution_count": 18,
   "metadata": {},
   "outputs": [],
   "source": [
    "model1a = models.Sequential()\n",
    "model1a.add(layers.Dense(16, activation='relu', input_shape=(10000,)))\n",
    "model1a.add(layers.Dense(1, activation='sigmoid'))"
   ]
  },
  {
   "cell_type": "code",
   "execution_count": 19,
   "metadata": {},
   "outputs": [],
   "source": [
    "# compile\n",
    "model1a.compile(optimizer='rmsprop',\n",
    "              loss='binary_crossentropy',\n",
    "              metrics=['accuracy'])"
   ]
  },
  {
   "cell_type": "code",
   "execution_count": 20,
   "metadata": {},
   "outputs": [
    {
     "name": "stdout",
     "output_type": "stream",
     "text": [
      "Epoch 1/20\n",
      "30/30 [==============================] - 3s 111ms/step - loss: 0.5043 - accuracy: 0.8010 - val_loss: 0.4041 - val_accuracy: 0.8577\n",
      "Epoch 2/20\n",
      "30/30 [==============================] - 1s 23ms/step - loss: 0.3274 - accuracy: 0.9006 - val_loss: 0.3294 - val_accuracy: 0.8800\n",
      "Epoch 3/20\n",
      "30/30 [==============================] - 1s 22ms/step - loss: 0.2529 - accuracy: 0.9239 - val_loss: 0.3041 - val_accuracy: 0.8811\n",
      "Epoch 4/20\n",
      "30/30 [==============================] - 1s 21ms/step - loss: 0.2081 - accuracy: 0.9345 - val_loss: 0.2775 - val_accuracy: 0.8910\n",
      "Epoch 5/20\n",
      "30/30 [==============================] - 1s 22ms/step - loss: 0.1781 - accuracy: 0.9444 - val_loss: 0.2781 - val_accuracy: 0.8879\n",
      "Epoch 6/20\n",
      "30/30 [==============================] - 1s 20ms/step - loss: 0.1545 - accuracy: 0.9527 - val_loss: 0.2804 - val_accuracy: 0.8857\n",
      "Epoch 7/20\n",
      "30/30 [==============================] - 1s 21ms/step - loss: 0.1354 - accuracy: 0.9606 - val_loss: 0.2776 - val_accuracy: 0.8901\n",
      "Epoch 8/20\n",
      "30/30 [==============================] - 1s 22ms/step - loss: 0.1184 - accuracy: 0.9660 - val_loss: 0.2864 - val_accuracy: 0.8858\n",
      "Epoch 9/20\n",
      "30/30 [==============================] - 1s 22ms/step - loss: 0.1055 - accuracy: 0.9706 - val_loss: 0.2922 - val_accuracy: 0.8851\n",
      "Epoch 10/20\n",
      "30/30 [==============================] - 1s 21ms/step - loss: 0.0932 - accuracy: 0.9756 - val_loss: 0.3080 - val_accuracy: 0.8822\n",
      "Epoch 11/20\n",
      "30/30 [==============================] - 1s 24ms/step - loss: 0.0820 - accuracy: 0.9801 - val_loss: 0.3194 - val_accuracy: 0.8840\n",
      "Epoch 12/20\n",
      "30/30 [==============================] - 1s 22ms/step - loss: 0.0741 - accuracy: 0.9829 - val_loss: 0.3467 - val_accuracy: 0.8777\n",
      "Epoch 13/20\n",
      "30/30 [==============================] - 1s 21ms/step - loss: 0.0647 - accuracy: 0.9856 - val_loss: 0.3420 - val_accuracy: 0.8827\n",
      "Epoch 14/20\n",
      "30/30 [==============================] - 1s 20ms/step - loss: 0.0583 - accuracy: 0.9881 - val_loss: 0.3538 - val_accuracy: 0.8777\n",
      "Epoch 15/20\n",
      "30/30 [==============================] - 1s 20ms/step - loss: 0.0516 - accuracy: 0.9897 - val_loss: 0.3672 - val_accuracy: 0.8790\n",
      "Epoch 16/20\n",
      "30/30 [==============================] - 1s 19ms/step - loss: 0.0452 - accuracy: 0.9913 - val_loss: 0.3949 - val_accuracy: 0.8764\n",
      "Epoch 17/20\n",
      "30/30 [==============================] - 1s 20ms/step - loss: 0.0405 - accuracy: 0.9924 - val_loss: 0.4085 - val_accuracy: 0.8718\n",
      "Epoch 18/20\n",
      "30/30 [==============================] - 1s 20ms/step - loss: 0.0351 - accuracy: 0.9949 - val_loss: 0.4195 - val_accuracy: 0.8737\n",
      "Epoch 19/20\n",
      "30/30 [==============================] - 1s 20ms/step - loss: 0.0308 - accuracy: 0.9951 - val_loss: 0.4404 - val_accuracy: 0.8713\n",
      "Epoch 20/20\n",
      "30/30 [==============================] - 1s 20ms/step - loss: 0.0264 - accuracy: 0.9965 - val_loss: 0.4605 - val_accuracy: 0.8723\n"
     ]
    }
   ],
   "source": [
    "# train model and validate\n",
    "history1a = model1a.fit(partial_x_train,\n",
    "                    partial_y_train,\n",
    "                    epochs=20,\n",
    "                    batch_size=512,\n",
    "                    validation_data=(x_val, y_val))"
   ]
  },
  {
   "cell_type": "code",
   "execution_count": 21,
   "metadata": {},
   "outputs": [
    {
     "data": {
      "text/plain": [
       "dict_keys(['loss', 'accuracy', 'val_loss', 'val_accuracy'])"
      ]
     },
     "execution_count": 21,
     "metadata": {},
     "output_type": "execute_result"
    }
   ],
   "source": [
    "history_dict1a = history1a.history\n",
    "history_dict1a.keys()"
   ]
  },
  {
   "cell_type": "code",
   "execution_count": 22,
   "metadata": {},
   "outputs": [
    {
     "data": {
      "image/png": "[encoded data removed]",
      "text/plain": [
       "<Figure size 432x288 with 1 Axes>"
      ]
     },
     "metadata": {
      "needs_background": "light"
     },
     "output_type": "display_data"
    }
   ],
   "source": [
    "# plot loss\n",
    "import matplotlib.pyplot as plt\n",
    "\n",
    "acc1a = history1a.history['accuracy']\n",
    "val_acc1a = history1a.history['val_accuracy']\n",
    "loss1a = history1a.history['loss']\n",
    "val_loss1a = history1a.history['val_loss']\n",
    "\n",
    "epochs = range(1, len(acc1a) + 1)\n",
    "\n",
    "# \"bo\" is for \"blue dot\"\n",
    "plt.plot(epochs, loss1a, 'bo', label='Training loss')\n",
    "# b is for \"solid blue line\"\n",
    "plt.plot(epochs, val_loss1a, 'b', label='Validation loss')\n",
    "plt.title('Training and validation loss')\n",
    "plt.xlabel('Epochs')\n",
    "plt.ylabel('Loss')\n",
    "plt.legend()\n",
    "\n",
    "plt.show()"
   ]
  },
  {
   "cell_type": "code",
   "execution_count": 23,
   "metadata": {},
   "outputs": [
    {
     "data": {
      "image/png": "[encoded data removed]",
      "text/plain": [
       "<Figure size 432x288 with 1 Axes>"
      ]
     },
     "metadata": {
      "needs_background": "light"
     },
     "output_type": "display_data"
    }
   ],
   "source": [
    "# plot accuracy\n",
    "plt.clf()   # clear figure\n",
    "acc_values1a = history_dict1a['accuracy']\n",
    "val_acc_values1a = history_dict1a['val_accuracy']\n",
    "\n",
    "plt.plot(epochs, acc1a, 'bo', label='Training acc')\n",
    "plt.plot(epochs, val_acc1a, 'b', label='Validation acc')\n",
    "plt.title('Training and validation accuracy')\n",
    "plt.xlabel('Epochs')\n",
    "plt.ylabel('Accuracy')\n",
    "plt.legend()\n",
    "\n",
    "plt.show()"
   ]
  },
  {
   "cell_type": "markdown",
   "metadata": {},
   "source": [
    "Using three hidden layers"
   ]
  },
  {
   "cell_type": "code",
   "execution_count": 24,
   "metadata": {},
   "outputs": [],
   "source": [
    "model1b = models.Sequential()\n",
    "model1b.add(layers.Dense(16, activation='relu', input_shape=(10000,)))\n",
    "model1b.add(layers.Dense(16, activation='relu'))\n",
    "model1b.add(layers.Dense(16, activation='relu'))\n",
    "model1b.add(layers.Dense(1, activation='sigmoid'))"
   ]
  },
  {
   "cell_type": "code",
   "execution_count": 26,
   "metadata": {},
   "outputs": [],
   "source": [
    "# compile\n",
    "model1b.compile(optimizer='rmsprop',\n",
    "              loss='binary_crossentropy',\n",
    "              metrics=['accuracy'])"
   ]
  },
  {
   "cell_type": "code",
   "execution_count": 27,
   "metadata": {},
   "outputs": [
    {
     "name": "stdout",
     "output_type": "stream",
     "text": [
      "Epoch 1/20\n",
      "30/30 [==============================] - 4s 125ms/step - loss: 0.5619 - accuracy: 0.7579 - val_loss: 0.4301 - val_accuracy: 0.8679\n",
      "Epoch 2/20\n",
      "30/30 [==============================] - 1s 26ms/step - loss: 0.3454 - accuracy: 0.8957 - val_loss: 0.3219 - val_accuracy: 0.8844\n",
      "Epoch 3/20\n",
      "30/30 [==============================] - 1s 22ms/step - loss: 0.2415 - accuracy: 0.9239 - val_loss: 0.2901 - val_accuracy: 0.8861\n",
      "Epoch 4/20\n",
      "30/30 [==============================] - 1s 21ms/step - loss: 0.1832 - accuracy: 0.9410 - val_loss: 0.2874 - val_accuracy: 0.8839\n",
      "Epoch 5/20\n",
      "30/30 [==============================] - 1s 23ms/step - loss: 0.1465 - accuracy: 0.9521 - val_loss: 0.3012 - val_accuracy: 0.8819\n",
      "Epoch 6/20\n",
      "30/30 [==============================] - 1s 21ms/step - loss: 0.1178 - accuracy: 0.9613 - val_loss: 0.3039 - val_accuracy: 0.8842\n",
      "Epoch 7/20\n",
      "30/30 [==============================] - 1s 21ms/step - loss: 0.0972 - accuracy: 0.9700 - val_loss: 0.3463 - val_accuracy: 0.8736\n",
      "Epoch 8/20\n",
      "30/30 [==============================] - 1s 21ms/step - loss: 0.0777 - accuracy: 0.9770 - val_loss: 0.3433 - val_accuracy: 0.8801\n",
      "Epoch 9/20\n",
      "30/30 [==============================] - 1s 20ms/step - loss: 0.0646 - accuracy: 0.9811 - val_loss: 0.3611 - val_accuracy: 0.8795\n",
      "Epoch 10/20\n",
      "30/30 [==============================] - 1s 21ms/step - loss: 0.0491 - accuracy: 0.9874 - val_loss: 0.3955 - val_accuracy: 0.8769\n",
      "Epoch 11/20\n",
      "30/30 [==============================] - 1s 21ms/step - loss: 0.0414 - accuracy: 0.9891 - val_loss: 0.4253 - val_accuracy: 0.8755\n",
      "Epoch 12/20\n",
      "30/30 [==============================] - 1s 21ms/step - loss: 0.0315 - accuracy: 0.9924 - val_loss: 0.4659 - val_accuracy: 0.8713\n",
      "Epoch 13/20\n",
      "30/30 [==============================] - 1s 21ms/step - loss: 0.0218 - accuracy: 0.9953 - val_loss: 0.4946 - val_accuracy: 0.8711\n",
      "Epoch 14/20\n",
      "30/30 [==============================] - 1s 22ms/step - loss: 0.0167 - accuracy: 0.9969 - val_loss: 0.5298 - val_accuracy: 0.8719\n",
      "Epoch 15/20\n",
      "30/30 [==============================] - 1s 22ms/step - loss: 0.0095 - accuracy: 0.9993 - val_loss: 0.5904 - val_accuracy: 0.8680\n",
      "Epoch 16/20\n",
      "30/30 [==============================] - 1s 23ms/step - loss: 0.0127 - accuracy: 0.9969 - val_loss: 0.6281 - val_accuracy: 0.8675\n",
      "Epoch 17/20\n",
      "30/30 [==============================] - 1s 21ms/step - loss: 0.0048 - accuracy: 0.9997 - val_loss: 0.9073 - val_accuracy: 0.8377\n",
      "Epoch 18/20\n",
      "30/30 [==============================] - 1s 20ms/step - loss: 0.0050 - accuracy: 0.9994 - val_loss: 0.7131 - val_accuracy: 0.8664\n",
      "Epoch 19/20\n",
      "30/30 [==============================] - 1s 21ms/step - loss: 0.0112 - accuracy: 0.9972 - val_loss: 0.7511 - val_accuracy: 0.8660\n",
      "Epoch 20/20\n",
      "30/30 [==============================] - 1s 19ms/step - loss: 0.0016 - accuracy: 0.9999 - val_loss: 0.7785 - val_accuracy: 0.8656\n"
     ]
    }
   ],
   "source": [
    "# train model and validate\n",
    "history1b = model1b.fit(partial_x_train,\n",
    "                    partial_y_train,\n",
    "                    epochs=20,\n",
    "                    batch_size=512,\n",
    "                    validation_data=(x_val, y_val))"
   ]
  },
  {
   "cell_type": "code",
   "execution_count": 30,
   "metadata": {},
   "outputs": [
    {
     "data": {
      "text/plain": [
       "dict_keys(['loss', 'accuracy', 'val_loss', 'val_accuracy'])"
      ]
     },
     "execution_count": 30,
     "metadata": {},
     "output_type": "execute_result"
    }
   ],
   "source": [
    "# history\n",
    "history_dict1b = history1b.history\n",
    "history_dict1b.keys()"
   ]
  },
  {
   "cell_type": "code",
   "execution_count": 31,
   "metadata": {},
   "outputs": [
    {
     "data": {
      "image/png": "[encoded data removed]",
      "text/plain": [
       "<Figure size 432x288 with 1 Axes>"
      ]
     },
     "metadata": {
      "needs_background": "light"
     },
     "output_type": "display_data"
    }
   ],
   "source": [
    "# plot loss\n",
    "import matplotlib.pyplot as plt\n",
    "\n",
    "acc1b = history1b.history['accuracy']\n",
    "val_acc1b = history1b.history['val_accuracy']\n",
    "loss1b = history1b.history['loss']\n",
    "val_loss1b = history1b.history['val_loss']\n",
    "\n",
    "epochs = range(1, len(acc1b) + 1)\n",
    "\n",
    "# \"bo\" is for \"blue dot\"\n",
    "plt.plot(epochs, loss1b, 'bo', label='Training loss')\n",
    "# b is for \"solid blue line\"\n",
    "plt.plot(epochs, val_loss1b, 'b', label='Validation loss')\n",
    "plt.title('Training and validation loss')\n",
    "plt.xlabel('Epochs')\n",
    "plt.ylabel('Loss')\n",
    "plt.legend()\n",
    "\n",
    "plt.show()"
   ]
  },
  {
   "cell_type": "code",
   "execution_count": 32,
   "metadata": {},
   "outputs": [
    {
     "data": {
      "image/png": "[encoded data removed]",
      "text/plain": [
       "<Figure size 432x288 with 1 Axes>"
      ]
     },
     "metadata": {
      "needs_background": "light"
     },
     "output_type": "display_data"
    }
   ],
   "source": [
    "# plot accuracy\n",
    "plt.clf()   # clear figure\n",
    "acc_values1b = history_dict1b['accuracy']\n",
    "val_acc_values1b = history_dict1b['val_accuracy']\n",
    "\n",
    "plt.plot(epochs, acc1b, 'bo', label='Training acc')\n",
    "plt.plot(epochs, val_acc1b, 'b', label='Validation acc')\n",
    "plt.title('Training and validation accuracy')\n",
    "plt.xlabel('Epochs')\n",
    "plt.ylabel('Accuracy')\n",
    "plt.legend()\n",
    "\n",
    "plt.show()"
   ]
  },
  {
   "cell_type": "markdown",
   "metadata": {},
   "source": [
    "Using 32 hidden unit size"
   ]
  },
  {
   "cell_type": "code",
   "execution_count": 33,
   "metadata": {},
   "outputs": [],
   "source": [
    "model2a = models.Sequential()\n",
    "model2a.add(layers.Dense(32, activation='relu', input_shape=(10000,)))\n",
    "model2a.add(layers.Dense(32, activation='relu'))\n",
    "model2a.add(layers.Dense(1, activation='sigmoid'))"
   ]
  },
  {
   "cell_type": "code",
   "execution_count": 34,
   "metadata": {},
   "outputs": [],
   "source": [
    "# compile\n",
    "model2a.compile(optimizer='rmsprop',\n",
    "              loss='binary_crossentropy',\n",
    "              metrics=['accuracy'])"
   ]
  },
  {
   "cell_type": "code",
   "execution_count": 35,
   "metadata": {},
   "outputs": [
    {
     "name": "stdout",
     "output_type": "stream",
     "text": [
      "Epoch 1/20\n",
      "30/30 [==============================] - 6s 196ms/step - loss: 0.4927 - accuracy: 0.7839 - val_loss: 0.3622 - val_accuracy: 0.8636\n",
      "Epoch 2/20\n",
      "30/30 [==============================] - 1s 22ms/step - loss: 0.2783 - accuracy: 0.9031 - val_loss: 0.3342 - val_accuracy: 0.8590\n",
      "Epoch 3/20\n",
      "30/30 [==============================] - 1s 24ms/step - loss: 0.1997 - accuracy: 0.9315 - val_loss: 0.2891 - val_accuracy: 0.8836\n",
      "Epoch 4/20\n",
      "30/30 [==============================] - 1s 24ms/step - loss: 0.1588 - accuracy: 0.9440 - val_loss: 0.2853 - val_accuracy: 0.8862\n",
      "Epoch 5/20\n",
      "30/30 [==============================] - 1s 24ms/step - loss: 0.1197 - accuracy: 0.9599 - val_loss: 0.3121 - val_accuracy: 0.8843\n",
      "Epoch 6/20\n",
      "30/30 [==============================] - 1s 26ms/step - loss: 0.0978 - accuracy: 0.9677 - val_loss: 0.3330 - val_accuracy: 0.8805\n",
      "Epoch 7/20\n",
      "30/30 [==============================] - 1s 23ms/step - loss: 0.0725 - accuracy: 0.9790 - val_loss: 0.3477 - val_accuracy: 0.8822\n",
      "Epoch 8/20\n",
      "30/30 [==============================] - 1s 23ms/step - loss: 0.0645 - accuracy: 0.9803 - val_loss: 0.3743 - val_accuracy: 0.8800\n",
      "Epoch 9/20\n",
      "30/30 [==============================] - 1s 24ms/step - loss: 0.0501 - accuracy: 0.9854 - val_loss: 0.4022 - val_accuracy: 0.8780\n",
      "Epoch 10/20\n",
      "30/30 [==============================] - 1s 25ms/step - loss: 0.0372 - accuracy: 0.9899 - val_loss: 0.4601 - val_accuracy: 0.8708\n",
      "Epoch 11/20\n",
      "30/30 [==============================] - 1s 24ms/step - loss: 0.0294 - accuracy: 0.9930 - val_loss: 0.4687 - val_accuracy: 0.8749\n",
      "Epoch 12/20\n",
      "30/30 [==============================] - 1s 23ms/step - loss: 0.0147 - accuracy: 0.9985 - val_loss: 0.6290 - val_accuracy: 0.8524\n",
      "Epoch 13/20\n",
      "30/30 [==============================] - 1s 23ms/step - loss: 0.0146 - accuracy: 0.9974 - val_loss: 0.5595 - val_accuracy: 0.8700\n",
      "Epoch 14/20\n",
      "30/30 [==============================] - 1s 23ms/step - loss: 0.0245 - accuracy: 0.9929 - val_loss: 0.5782 - val_accuracy: 0.8715\n",
      "Epoch 15/20\n",
      "30/30 [==============================] - 1s 21ms/step - loss: 0.0049 - accuracy: 0.9999 - val_loss: 0.6298 - val_accuracy: 0.8686\n",
      "Epoch 16/20\n",
      "30/30 [==============================] - 1s 25ms/step - loss: 0.0204 - accuracy: 0.9931 - val_loss: 0.6450 - val_accuracy: 0.8673\n",
      "Epoch 17/20\n",
      "30/30 [==============================] - 1s 25ms/step - loss: 0.0025 - accuracy: 0.9999 - val_loss: 0.6828 - val_accuracy: 0.8656\n",
      "Epoch 18/20\n",
      "30/30 [==============================] - 1s 23ms/step - loss: 0.0019 - accuracy: 0.9999 - val_loss: 0.7847 - val_accuracy: 0.8625\n",
      "Epoch 19/20\n",
      "30/30 [==============================] - 1s 22ms/step - loss: 0.0103 - accuracy: 0.9973 - val_loss: 0.7587 - val_accuracy: 0.8664\n",
      "Epoch 20/20\n",
      "30/30 [==============================] - 1s 20ms/step - loss: 9.9614e-04 - accuracy: 0.9999 - val_loss: 0.7995 - val_accuracy: 0.8661\n"
     ]
    }
   ],
   "source": [
    "# train model and validate\n",
    "history2a = model2a.fit(partial_x_train,\n",
    "                    partial_y_train,\n",
    "                    epochs=20,\n",
    "                    batch_size=512,\n",
    "                    validation_data=(x_val, y_val))"
   ]
  },
  {
   "cell_type": "code",
   "execution_count": 36,
   "metadata": {},
   "outputs": [
    {
     "data": {
      "text/plain": [
       "dict_keys(['loss', 'accuracy', 'val_loss', 'val_accuracy'])"
      ]
     },
     "execution_count": 36,
     "metadata": {},
     "output_type": "execute_result"
    }
   ],
   "source": [
    "# history\n",
    "history_dict2a = history2a.history\n",
    "history_dict2a.keys()"
   ]
  },
  {
   "cell_type": "code",
   "execution_count": 37,
   "metadata": {},
   "outputs": [
    {
     "data": {
      "image/png": "[encoded data removed]",
      "text/plain": [
       "<Figure size 432x288 with 1 Axes>"
      ]
     },
     "metadata": {
      "needs_background": "light"
     },
     "output_type": "display_data"
    }
   ],
   "source": [
    "# plot loss\n",
    "import matplotlib.pyplot as plt\n",
    "\n",
    "acc2a = history2a.history['accuracy']\n",
    "val_acc2a = history2a.history['val_accuracy']\n",
    "loss2a = history2a.history['loss']\n",
    "val_loss2a = history2a.history['val_loss']\n",
    "\n",
    "epochs = range(1, len(acc2a) + 1)\n",
    "\n",
    "# \"bo\" is for \"blue dot\"\n",
    "plt.plot(epochs, loss2a, 'bo', label='Training loss')\n",
    "# b is for \"solid blue line\"\n",
    "plt.plot(epochs, val_loss2a, 'b', label='Validation loss')\n",
    "plt.title('Training and validation loss')\n",
    "plt.xlabel('Epochs')\n",
    "plt.ylabel('Loss')\n",
    "plt.legend()\n",
    "\n",
    "plt.show()"
   ]
  },
  {
   "cell_type": "code",
   "execution_count": 38,
   "metadata": {},
   "outputs": [
    {
     "data": {
      "image/png": "[encoded data removed]",
      "text/plain": [
       "<Figure size 432x288 with 1 Axes>"
      ]
     },
     "metadata": {
      "needs_background": "light"
     },
     "output_type": "display_data"
    }
   ],
   "source": [
    "# plot accuracy\n",
    "plt.clf()   # clear figure\n",
    "acc_values2a = history_dict2a['accuracy']\n",
    "val_acc_values2a = history_dict2a['val_accuracy']\n",
    "\n",
    "plt.plot(epochs, acc2a, 'bo', label='Training acc')\n",
    "plt.plot(epochs, val_acc2a, 'b', label='Validation acc')\n",
    "plt.title('Training and validation accuracy')\n",
    "plt.xlabel('Epochs')\n",
    "plt.ylabel('Accuracy')\n",
    "plt.legend()\n",
    "\n",
    "plt.show()"
   ]
  },
  {
   "cell_type": "markdown",
   "metadata": {},
   "source": [
    "Using 64 hidden unit size"
   ]
  },
  {
   "cell_type": "code",
   "execution_count": 39,
   "metadata": {},
   "outputs": [],
   "source": [
    "model2b = models.Sequential()\n",
    "model2b.add(layers.Dense(64, activation='relu', input_shape=(10000,)))\n",
    "model2b.add(layers.Dense(64, activation='relu'))\n",
    "model2b.add(layers.Dense(1, activation='sigmoid'))"
   ]
  },
  {
   "cell_type": "code",
   "execution_count": 40,
   "metadata": {},
   "outputs": [],
   "source": [
    "# compile\n",
    "model2b.compile(optimizer='rmsprop',\n",
    "              loss='binary_crossentropy',\n",
    "              metrics=['accuracy'])"
   ]
  },
  {
   "cell_type": "code",
   "execution_count": 41,
   "metadata": {},
   "outputs": [
    {
     "name": "stdout",
     "output_type": "stream",
     "text": [
      "Epoch 1/20\n",
      "30/30 [==============================] - 4s 141ms/step - loss: 0.4847 - accuracy: 0.7769 - val_loss: 0.3257 - val_accuracy: 0.8727\n",
      "Epoch 2/20\n",
      "30/30 [==============================] - 1s 36ms/step - loss: 0.2621 - accuracy: 0.9004 - val_loss: 0.2744 - val_accuracy: 0.8920\n",
      "Epoch 3/20\n",
      "30/30 [==============================] - 1s 31ms/step - loss: 0.1812 - accuracy: 0.9353 - val_loss: 0.2833 - val_accuracy: 0.8876\n",
      "Epoch 4/20\n",
      "30/30 [==============================] - 1s 38ms/step - loss: 0.1380 - accuracy: 0.9503 - val_loss: 0.2964 - val_accuracy: 0.8881\n",
      "Epoch 5/20\n",
      "30/30 [==============================] - 1s 33ms/step - loss: 0.1095 - accuracy: 0.9593 - val_loss: 0.3561 - val_accuracy: 0.8726\n",
      "Epoch 6/20\n",
      "30/30 [==============================] - 1s 30ms/step - loss: 0.0697 - accuracy: 0.9782 - val_loss: 0.3596 - val_accuracy: 0.8807\n",
      "Epoch 7/20\n",
      "30/30 [==============================] - 1s 31ms/step - loss: 0.0559 - accuracy: 0.9837 - val_loss: 0.3901 - val_accuracy: 0.8812\n",
      "Epoch 8/20\n",
      "30/30 [==============================] - 1s 34ms/step - loss: 0.0531 - accuracy: 0.9841 - val_loss: 0.4149 - val_accuracy: 0.8793\n",
      "Epoch 9/20\n",
      "30/30 [==============================] - 1s 31ms/step - loss: 0.0131 - accuracy: 0.9987 - val_loss: 0.4709 - val_accuracy: 0.8762\n",
      "Epoch 10/20\n",
      "30/30 [==============================] - 1s 32ms/step - loss: 0.0401 - accuracy: 0.9878 - val_loss: 0.4997 - val_accuracy: 0.8775\n",
      "Epoch 11/20\n",
      "30/30 [==============================] - 1s 30ms/step - loss: 0.0049 - accuracy: 0.9996 - val_loss: 0.5692 - val_accuracy: 0.8749\n",
      "Epoch 12/20\n",
      "30/30 [==============================] - 1s 30ms/step - loss: 0.0439 - accuracy: 0.9889 - val_loss: 0.5916 - val_accuracy: 0.8736\n",
      "Epoch 13/20\n",
      "30/30 [==============================] - 1s 30ms/step - loss: 0.0020 - accuracy: 0.9999 - val_loss: 0.6316 - val_accuracy: 0.8740\n",
      "Epoch 14/20\n",
      "30/30 [==============================] - 1s 30ms/step - loss: 0.0013 - accuracy: 0.9999 - val_loss: 0.6834 - val_accuracy: 0.8726\n",
      "Epoch 15/20\n",
      "30/30 [==============================] - 1s 30ms/step - loss: 0.0114 - accuracy: 0.9976 - val_loss: 0.8920 - val_accuracy: 0.8531\n",
      "Epoch 16/20\n",
      "30/30 [==============================] - 1s 31ms/step - loss: 8.8947e-04 - accuracy: 1.0000 - val_loss: 0.7936 - val_accuracy: 0.8681\n",
      "Epoch 17/20\n",
      "30/30 [==============================] - 1s 30ms/step - loss: 3.2643e-04 - accuracy: 1.0000 - val_loss: 0.8282 - val_accuracy: 0.8692\n",
      "Epoch 18/20\n",
      "30/30 [==============================] - 1s 33ms/step - loss: 2.0736e-04 - accuracy: 1.0000 - val_loss: 0.8827 - val_accuracy: 0.8692\n",
      "Epoch 19/20\n",
      "30/30 [==============================] - 1s 31ms/step - loss: 0.0398 - accuracy: 0.9927 - val_loss: 0.9269 - val_accuracy: 0.8690\n",
      "Epoch 20/20\n",
      "30/30 [==============================] - 1s 30ms/step - loss: 8.8938e-05 - accuracy: 1.0000 - val_loss: 0.9352 - val_accuracy: 0.8703\n"
     ]
    }
   ],
   "source": [
    "# train model and validate\n",
    "history2b = model2b.fit(partial_x_train,\n",
    "                    partial_y_train,\n",
    "                    epochs=20,\n",
    "                    batch_size=512,\n",
    "                    validation_data=(x_val, y_val))"
   ]
  },
  {
   "cell_type": "code",
   "execution_count": 42,
   "metadata": {},
   "outputs": [
    {
     "data": {
      "text/plain": [
       "dict_keys(['loss', 'accuracy', 'val_loss', 'val_accuracy'])"
      ]
     },
     "execution_count": 42,
     "metadata": {},
     "output_type": "execute_result"
    }
   ],
   "source": [
    "history_dict2b = history2b.history\n",
    "history_dict2b.keys()"
   ]
  },
  {
   "cell_type": "code",
   "execution_count": 43,
   "metadata": {},
   "outputs": [
    {
     "data": {
      "image/png": "[encoded data removed]",
      "text/plain": [
       "<Figure size 432x288 with 1 Axes>"
      ]
     },
     "metadata": {
      "needs_background": "light"
     },
     "output_type": "display_data"
    }
   ],
   "source": [
    "# plot loss\n",
    "import matplotlib.pyplot as plt\n",
    "\n",
    "acc2b = history2b.history['accuracy']\n",
    "val_acc2b = history2b.history['val_accuracy']\n",
    "loss2b = history2b.history['loss']\n",
    "val_loss2b = history2b.history['val_loss']\n",
    "\n",
    "epochs = range(1, len(acc2b) + 1)\n",
    "\n",
    "# \"bo\" is for \"blue dot\"\n",
    "plt.plot(epochs, loss2b, 'bo', label='Training loss')\n",
    "# b is for \"solid blue line\"\n",
    "plt.plot(epochs, val_loss2b, 'b', label='Validation loss')\n",
    "plt.title('Training and validation loss')\n",
    "plt.xlabel('Epochs')\n",
    "plt.ylabel('Loss')\n",
    "plt.legend()\n",
    "\n",
    "plt.show()"
   ]
  },
  {
   "cell_type": "code",
   "execution_count": 44,
   "metadata": {},
   "outputs": [
    {
     "data": {
      "image/png": "[encoded data removed]",
      "text/plain": [
       "<Figure size 432x288 with 1 Axes>"
      ]
     },
     "metadata": {
      "needs_background": "light"
     },
     "output_type": "display_data"
    }
   ],
   "source": [
    "# plot accuracy\n",
    "plt.clf()   # clear figure\n",
    "acc_values2b = history_dict2b['accuracy']\n",
    "val_acc_values2b = history_dict2b['val_accuracy']\n",
    "\n",
    "plt.plot(epochs, acc2b, 'bo', label='Training acc')\n",
    "plt.plot(epochs, val_acc2b, 'b', label='Validation acc')\n",
    "plt.title('Training and validation accuracy')\n",
    "plt.xlabel('Epochs')\n",
    "plt.ylabel('Accuracy')\n",
    "plt.legend()\n",
    "\n",
    "plt.show()"
   ]
  },
  {
   "cell_type": "markdown",
   "metadata": {},
   "source": [
    "Using the mse loss function instead of binary_crossentropy"
   ]
  },
  {
   "cell_type": "code",
   "execution_count": 45,
   "metadata": {},
   "outputs": [],
   "source": [
    "model3 = models.Sequential()\n",
    "model3.add(layers.Dense(16, activation='relu', input_shape=(10000,)))\n",
    "model3.add(layers.Dense(16, activation='relu'))\n",
    "model3.add(layers.Dense(1, activation='sigmoid'))"
   ]
  },
  {
   "cell_type": "code",
   "execution_count": 46,
   "metadata": {},
   "outputs": [],
   "source": [
    "# compile\n",
    "model3.compile(optimizer='rmsprop',\n",
    "              loss='mse',\n",
    "              metrics=['accuracy'])"
   ]
  },
  {
   "cell_type": "code",
   "execution_count": 47,
   "metadata": {},
   "outputs": [
    {
     "name": "stdout",
     "output_type": "stream",
     "text": [
      "Epoch 1/20\n",
      "30/30 [==============================] - 3s 102ms/step - loss: 0.1625 - accuracy: 0.7923 - val_loss: 0.1136 - val_accuracy: 0.8744\n",
      "Epoch 2/20\n",
      "30/30 [==============================] - 1s 26ms/step - loss: 0.0879 - accuracy: 0.9059 - val_loss: 0.1017 - val_accuracy: 0.8680\n",
      "Epoch 3/20\n",
      "30/30 [==============================] - 1s 23ms/step - loss: 0.0635 - accuracy: 0.9309 - val_loss: 0.0851 - val_accuracy: 0.8885\n",
      "Epoch 4/20\n",
      "30/30 [==============================] - 1s 23ms/step - loss: 0.0504 - accuracy: 0.9449 - val_loss: 0.0825 - val_accuracy: 0.8898\n",
      "Epoch 5/20\n",
      "30/30 [==============================] - 1s 24ms/step - loss: 0.0410 - accuracy: 0.9564 - val_loss: 0.0833 - val_accuracy: 0.8844\n",
      "Epoch 6/20\n",
      "30/30 [==============================] - 1s 25ms/step - loss: 0.0333 - accuracy: 0.9665 - val_loss: 0.0887 - val_accuracy: 0.8796\n",
      "Epoch 7/20\n",
      "30/30 [==============================] - 1s 25ms/step - loss: 0.0279 - accuracy: 0.9735 - val_loss: 0.0857 - val_accuracy: 0.8840\n",
      "Epoch 8/20\n",
      "30/30 [==============================] - 1s 24ms/step - loss: 0.0226 - accuracy: 0.9793 - val_loss: 0.0886 - val_accuracy: 0.8808\n",
      "Epoch 9/20\n",
      "30/30 [==============================] - 1s 25ms/step - loss: 0.0200 - accuracy: 0.9806 - val_loss: 0.0918 - val_accuracy: 0.8775\n",
      "Epoch 10/20\n",
      "30/30 [==============================] - 1s 25ms/step - loss: 0.0164 - accuracy: 0.9857 - val_loss: 0.0927 - val_accuracy: 0.8770\n",
      "Epoch 11/20\n",
      "30/30 [==============================] - 1s 27ms/step - loss: 0.0135 - accuracy: 0.9892 - val_loss: 0.0943 - val_accuracy: 0.8746\n",
      "Epoch 12/20\n",
      "30/30 [==============================] - 1s 21ms/step - loss: 0.0111 - accuracy: 0.9913 - val_loss: 0.0966 - val_accuracy: 0.8737\n",
      "Epoch 13/20\n",
      "30/30 [==============================] - 1s 19ms/step - loss: 0.0107 - accuracy: 0.9911 - val_loss: 0.0989 - val_accuracy: 0.8701\n",
      "Epoch 14/20\n",
      "30/30 [==============================] - 1s 20ms/step - loss: 0.0088 - accuracy: 0.9922 - val_loss: 0.1010 - val_accuracy: 0.8693\n",
      "Epoch 15/20\n",
      "30/30 [==============================] - 1s 19ms/step - loss: 0.0063 - accuracy: 0.9955 - val_loss: 0.1042 - val_accuracy: 0.8654\n",
      "Epoch 16/20\n",
      "30/30 [==============================] - 1s 19ms/step - loss: 0.0061 - accuracy: 0.9955 - val_loss: 0.1043 - val_accuracy: 0.8681\n",
      "Epoch 17/20\n",
      "30/30 [==============================] - 1s 20ms/step - loss: 0.0060 - accuracy: 0.9951 - val_loss: 0.1058 - val_accuracy: 0.8670\n",
      "Epoch 18/20\n",
      "30/30 [==============================] - 1s 20ms/step - loss: 0.0040 - accuracy: 0.9967 - val_loss: 0.1135 - val_accuracy: 0.8622\n",
      "Epoch 19/20\n",
      "30/30 [==============================] - 1s 20ms/step - loss: 0.0054 - accuracy: 0.9949 - val_loss: 0.1086 - val_accuracy: 0.8652\n",
      "Epoch 20/20\n",
      "30/30 [==============================] - 1s 18ms/step - loss: 0.0032 - accuracy: 0.9973 - val_loss: 0.1096 - val_accuracy: 0.8653\n"
     ]
    }
   ],
   "source": [
    "# train model and validate\n",
    "history3 = model3.fit(partial_x_train,\n",
    "                    partial_y_train,\n",
    "                    epochs=20,\n",
    "                    batch_size=512,\n",
    "                    validation_data=(x_val, y_val))"
   ]
  },
  {
   "cell_type": "code",
   "execution_count": 48,
   "metadata": {},
   "outputs": [
    {
     "data": {
      "text/plain": [
       "dict_keys(['loss', 'accuracy', 'val_loss', 'val_accuracy'])"
      ]
     },
     "execution_count": 48,
     "metadata": {},
     "output_type": "execute_result"
    }
   ],
   "source": [
    "# history\n",
    "history_dict3 = history3.history\n",
    "history_dict3.keys()"
   ]
  },
  {
   "cell_type": "code",
   "execution_count": 49,
   "metadata": {},
   "outputs": [
    {
     "data": {
      "image/png": "[encoded data removed]",
      "text/plain": [
       "<Figure size 432x288 with 1 Axes>"
      ]
     },
     "metadata": {
      "needs_background": "light"
     },
     "output_type": "display_data"
    }
   ],
   "source": [
    "# plot loss\n",
    "import matplotlib.pyplot as plt\n",
    "\n",
    "acc3 = history3.history['accuracy']\n",
    "val_acc3 = history3.history['val_accuracy']\n",
    "loss3 = history3.history['loss']\n",
    "val_loss3 = history3.history['val_loss']\n",
    "\n",
    "epochs = range(1, len(acc3) + 1)\n",
    "\n",
    "# \"bo\" is for \"blue dot\"\n",
    "plt.plot(epochs, loss3, 'bo', label='Training loss')\n",
    "# b is for \"solid blue line\"\n",
    "plt.plot(epochs, val_loss3, 'b', label='Validation loss')\n",
    "plt.title('Training and validation loss')\n",
    "plt.xlabel('Epochs')\n",
    "plt.ylabel('Loss')\n",
    "plt.legend()\n",
    "\n",
    "plt.show()"
   ]
  },
  {
   "cell_type": "code",
   "execution_count": 50,
   "metadata": {},
   "outputs": [
    {
     "data": {
      "image/png": "[encoded data removed]",
      "text/plain": [
       "<Figure size 432x288 with 1 Axes>"
      ]
     },
     "metadata": {
      "needs_background": "light"
     },
     "output_type": "display_data"
    }
   ],
   "source": [
    "# plot accuracy\n",
    "plt.clf()   # clear figure\n",
    "acc_values3 = history_dict3['accuracy']\n",
    "val_acc_values3 = history_dict3['val_accuracy']\n",
    "\n",
    "plt.plot(epochs, acc3, 'bo', label='Training acc')\n",
    "plt.plot(epochs, val_acc3, 'b', label='Validation acc')\n",
    "plt.title('Training and validation accuracy')\n",
    "plt.xlabel('Epochs')\n",
    "plt.ylabel('Accuracy')\n",
    "plt.legend()\n",
    "\n",
    "plt.show()"
   ]
  },
  {
   "cell_type": "markdown",
   "metadata": {},
   "source": [
    "Using tanh instead of relu activision function"
   ]
  },
  {
   "cell_type": "code",
   "execution_count": 51,
   "metadata": {},
   "outputs": [],
   "source": [
    "model4 = models.Sequential()\n",
    "model4.add(layers.Dense(16, activation='tanh', input_shape=(10000,)))\n",
    "model4.add(layers.Dense(16, activation='tanh'))\n",
    "model4.add(layers.Dense(1, activation='sigmoid'))"
   ]
  },
  {
   "cell_type": "code",
   "execution_count": 52,
   "metadata": {},
   "outputs": [],
   "source": [
    "# compile\n",
    "model4.compile(optimizer='rmsprop',\n",
    "              loss='binary_crossentropy',\n",
    "              metrics=['accuracy'])"
   ]
  },
  {
   "cell_type": "code",
   "execution_count": 53,
   "metadata": {},
   "outputs": [
    {
     "name": "stdout",
     "output_type": "stream",
     "text": [
      "Epoch 1/20\n",
      "30/30 [==============================] - 7s 222ms/step - loss: 0.4911 - accuracy: 0.8031 - val_loss: 0.3644 - val_accuracy: 0.8725\n",
      "Epoch 2/20\n",
      "30/30 [==============================] - 1s 21ms/step - loss: 0.2845 - accuracy: 0.9081 - val_loss: 0.2901 - val_accuracy: 0.8860\n",
      "Epoch 3/20\n",
      "30/30 [==============================] - 1s 20ms/step - loss: 0.1990 - accuracy: 0.9358 - val_loss: 0.2768 - val_accuracy: 0.8884\n",
      "Epoch 4/20\n",
      "30/30 [==============================] - 1s 20ms/step - loss: 0.1551 - accuracy: 0.9475 - val_loss: 0.2800 - val_accuracy: 0.8838\n",
      "Epoch 5/20\n",
      "30/30 [==============================] - 1s 20ms/step - loss: 0.1173 - accuracy: 0.9615 - val_loss: 0.3314 - val_accuracy: 0.8737\n",
      "Epoch 6/20\n",
      "30/30 [==============================] - 1s 23ms/step - loss: 0.0931 - accuracy: 0.9706 - val_loss: 0.3337 - val_accuracy: 0.8784\n",
      "Epoch 7/20\n",
      "30/30 [==============================] - 1s 22ms/step - loss: 0.0721 - accuracy: 0.9781 - val_loss: 0.3709 - val_accuracy: 0.8761\n",
      "Epoch 8/20\n",
      "30/30 [==============================] - 1s 22ms/step - loss: 0.0576 - accuracy: 0.9820 - val_loss: 0.4109 - val_accuracy: 0.8768\n",
      "Epoch 9/20\n",
      "30/30 [==============================] - 1s 23ms/step - loss: 0.0439 - accuracy: 0.9883 - val_loss: 0.4539 - val_accuracy: 0.8679\n",
      "Epoch 10/20\n",
      "30/30 [==============================] - 1s 21ms/step - loss: 0.0383 - accuracy: 0.9897 - val_loss: 0.4874 - val_accuracy: 0.8699\n",
      "Epoch 11/20\n",
      "30/30 [==============================] - 1s 19ms/step - loss: 0.0246 - accuracy: 0.9936 - val_loss: 0.5498 - val_accuracy: 0.8675\n",
      "Epoch 12/20\n",
      "30/30 [==============================] - 1s 24ms/step - loss: 0.0189 - accuracy: 0.9957 - val_loss: 0.5762 - val_accuracy: 0.8660\n",
      "Epoch 13/20\n",
      "30/30 [==============================] - 1s 23ms/step - loss: 0.0100 - accuracy: 0.9987 - val_loss: 0.6261 - val_accuracy: 0.8644\n",
      "Epoch 14/20\n",
      "30/30 [==============================] - 1s 21ms/step - loss: 0.0202 - accuracy: 0.9946 - val_loss: 0.6422 - val_accuracy: 0.8637\n",
      "Epoch 15/20\n",
      "30/30 [==============================] - 1s 19ms/step - loss: 0.0051 - accuracy: 0.9990 - val_loss: 0.8244 - val_accuracy: 0.8393\n",
      "Epoch 16/20\n",
      "30/30 [==============================] - 1s 18ms/step - loss: 0.0071 - accuracy: 0.9981 - val_loss: 0.7282 - val_accuracy: 0.8638\n",
      "Epoch 17/20\n",
      "30/30 [==============================] - 1s 18ms/step - loss: 0.0151 - accuracy: 0.9953 - val_loss: 0.7605 - val_accuracy: 0.8627\n",
      "Epoch 18/20\n",
      "30/30 [==============================] - 1s 18ms/step - loss: 0.0016 - accuracy: 0.9999 - val_loss: 0.7811 - val_accuracy: 0.8618\n",
      "Epoch 19/20\n",
      "30/30 [==============================] - 1s 19ms/step - loss: 0.0013 - accuracy: 0.9999 - val_loss: 0.8203 - val_accuracy: 0.8607\n",
      "Epoch 20/20\n",
      "30/30 [==============================] - 1s 18ms/step - loss: 0.0223 - accuracy: 0.9945 - val_loss: 0.8559 - val_accuracy: 0.8605\n"
     ]
    }
   ],
   "source": [
    "# train model and validate\n",
    "history4 = model4.fit(partial_x_train,\n",
    "                    partial_y_train,\n",
    "                    epochs=20,\n",
    "                    batch_size=512,\n",
    "                    validation_data=(x_val, y_val))"
   ]
  },
  {
   "cell_type": "code",
   "execution_count": 54,
   "metadata": {},
   "outputs": [
    {
     "data": {
      "text/plain": [
       "dict_keys(['loss', 'accuracy', 'val_loss', 'val_accuracy'])"
      ]
     },
     "execution_count": 54,
     "metadata": {},
     "output_type": "execute_result"
    }
   ],
   "source": [
    "# history\n",
    "history_dict4 = history4.history\n",
    "history_dict4.keys()"
   ]
  },
  {
   "cell_type": "code",
   "execution_count": 55,
   "metadata": {},
   "outputs": [
    {
     "data": {
      "image/png": "[encoded data removed]",
      "text/plain": [
       "<Figure size 432x288 with 1 Axes>"
      ]
     },
     "metadata": {
      "needs_background": "light"
     },
     "output_type": "display_data"
    }
   ],
   "source": [
    "# plot loss\n",
    "import matplotlib.pyplot as plt\n",
    "\n",
    "acc4 = history4.history['accuracy']\n",
    "val_acc4 = history4.history['val_accuracy']\n",
    "loss4 = history4.history['loss']\n",
    "val_loss4 = history4.history['val_loss']\n",
    "\n",
    "epochs = range(1, len(acc4) + 1)\n",
    "\n",
    "# \"bo\" is for \"blue dot\"\n",
    "plt.plot(epochs, loss4, 'bo', label='Training loss')\n",
    "# b is for \"solid blue line\"\n",
    "plt.plot(epochs, val_loss4, 'b', label='Validation loss')\n",
    "plt.title('Training and validation loss')\n",
    "plt.xlabel('Epochs')\n",
    "plt.ylabel('Loss')\n",
    "plt.legend()\n",
    "\n",
    "plt.show()"
   ]
  },
  {
   "cell_type": "code",
   "execution_count": 56,
   "metadata": {},
   "outputs": [
    {
     "data": {
      "image/png": "[encoded data removed]",
      "text/plain": [
       "<Figure size 432x288 with 1 Axes>"
      ]
     },
     "metadata": {
      "needs_background": "light"
     },
     "output_type": "display_data"
    }
   ],
   "source": [
    "# plot accuracy\n",
    "plt.clf()   # clear figure\n",
    "acc_values4 = history_dict4['accuracy']\n",
    "val_acc_values4 = history_dict4['val_accuracy']\n",
    "\n",
    "plt.plot(epochs, acc4, 'bo', label='Training acc')\n",
    "plt.plot(epochs, val_acc4, 'b', label='Validation acc')\n",
    "plt.title('Training and validation accuracy')\n",
    "plt.xlabel('Epochs')\n",
    "plt.ylabel('Accuracy')\n",
    "plt.legend()\n",
    "\n",
    "plt.show()"
   ]
  },
  {
   "cell_type": "markdown",
   "metadata": {},
   "source": [
    "Based on these experiment the best model can be selected to predict more effeciently."
   ]
  }
 ],
 "metadata": {
  "kernelspec": {
   "display_name": "Python 3",
   "language": "python",
   "name": "python3"
  },
  "language_info": {
   "codemirror_mode": {
    "name": "ipython",
    "version": 3
   },
   "file_extension": ".py",
   "mimetype": "text/x-python",
   "name": "python",
   "nbconvert_exporter": "python",
   "pygments_lexer": "ipython3",
   "version": "3.7.10"
  }
 },
 "nbformat": 4,
 "nbformat_minor": 2
}
